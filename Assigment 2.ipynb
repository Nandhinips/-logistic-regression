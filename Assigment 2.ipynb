{
 "cells": [
  {
   "cell_type": "code",
   "execution_count": 142,
   "id": "930577a0",
   "metadata": {},
   "outputs": [],
   "source": [
    "import numpy as np\n",
    "import pandas as pd\n",
    "import matplotlib.pyplot as plt\n",
    "import seaborn as sns"
   ]
  },
  {
   "cell_type": "code",
   "execution_count": 143,
   "id": "52bf71da",
   "metadata": {},
   "outputs": [],
   "source": [
    "data=pd.read_csv(\"hr_dataset.csv\")"
   ]
  },
  {
   "cell_type": "code",
   "execution_count": 144,
   "id": "84ad60fb",
   "metadata": {
    "scrolled": true
   },
   "outputs": [
    {
     "data": {
      "text/html": [
       "<div>\n",
       "<style scoped>\n",
       "    .dataframe tbody tr th:only-of-type {\n",
       "        vertical-align: middle;\n",
       "    }\n",
       "\n",
       "    .dataframe tbody tr th {\n",
       "        vertical-align: top;\n",
       "    }\n",
       "\n",
       "    .dataframe thead th {\n",
       "        text-align: right;\n",
       "    }\n",
       "</style>\n",
       "<table border=\"1\" class=\"dataframe\">\n",
       "  <thead>\n",
       "    <tr style=\"text-align: right;\">\n",
       "      <th></th>\n",
       "      <th>satisfaction</th>\n",
       "      <th>evaluation</th>\n",
       "      <th>number_of_projects</th>\n",
       "      <th>average_montly_hours</th>\n",
       "      <th>time_spend_company</th>\n",
       "      <th>work_accident</th>\n",
       "      <th>churn</th>\n",
       "      <th>promotion</th>\n",
       "      <th>department</th>\n",
       "      <th>salary</th>\n",
       "    </tr>\n",
       "  </thead>\n",
       "  <tbody>\n",
       "    <tr>\n",
       "      <th>0</th>\n",
       "      <td>0.38</td>\n",
       "      <td>0.53</td>\n",
       "      <td>2</td>\n",
       "      <td>157</td>\n",
       "      <td>3</td>\n",
       "      <td>0</td>\n",
       "      <td>1</td>\n",
       "      <td>0</td>\n",
       "      <td>sales</td>\n",
       "      <td>low</td>\n",
       "    </tr>\n",
       "    <tr>\n",
       "      <th>1</th>\n",
       "      <td>0.80</td>\n",
       "      <td>0.86</td>\n",
       "      <td>5</td>\n",
       "      <td>262</td>\n",
       "      <td>6</td>\n",
       "      <td>0</td>\n",
       "      <td>1</td>\n",
       "      <td>0</td>\n",
       "      <td>sales</td>\n",
       "      <td>medium</td>\n",
       "    </tr>\n",
       "    <tr>\n",
       "      <th>2</th>\n",
       "      <td>0.11</td>\n",
       "      <td>0.88</td>\n",
       "      <td>7</td>\n",
       "      <td>272</td>\n",
       "      <td>4</td>\n",
       "      <td>0</td>\n",
       "      <td>1</td>\n",
       "      <td>0</td>\n",
       "      <td>sales</td>\n",
       "      <td>medium</td>\n",
       "    </tr>\n",
       "    <tr>\n",
       "      <th>3</th>\n",
       "      <td>0.72</td>\n",
       "      <td>0.87</td>\n",
       "      <td>5</td>\n",
       "      <td>223</td>\n",
       "      <td>5</td>\n",
       "      <td>0</td>\n",
       "      <td>1</td>\n",
       "      <td>0</td>\n",
       "      <td>sales</td>\n",
       "      <td>low</td>\n",
       "    </tr>\n",
       "    <tr>\n",
       "      <th>4</th>\n",
       "      <td>0.37</td>\n",
       "      <td>0.52</td>\n",
       "      <td>2</td>\n",
       "      <td>159</td>\n",
       "      <td>3</td>\n",
       "      <td>0</td>\n",
       "      <td>1</td>\n",
       "      <td>0</td>\n",
       "      <td>sales</td>\n",
       "      <td>low</td>\n",
       "    </tr>\n",
       "  </tbody>\n",
       "</table>\n",
       "</div>"
      ],
      "text/plain": [
       "   satisfaction  evaluation  number_of_projects  average_montly_hours  \\\n",
       "0          0.38        0.53                   2                   157   \n",
       "1          0.80        0.86                   5                   262   \n",
       "2          0.11        0.88                   7                   272   \n",
       "3          0.72        0.87                   5                   223   \n",
       "4          0.37        0.52                   2                   159   \n",
       "\n",
       "   time_spend_company  work_accident  churn  promotion department  salary  \n",
       "0                   3              0      1          0      sales     low  \n",
       "1                   6              0      1          0      sales  medium  \n",
       "2                   4              0      1          0      sales  medium  \n",
       "3                   5              0      1          0      sales     low  \n",
       "4                   3              0      1          0      sales     low  "
      ]
     },
     "execution_count": 144,
     "metadata": {},
     "output_type": "execute_result"
    }
   ],
   "source": [
    "data.head()"
   ]
  },
  {
   "cell_type": "code",
   "execution_count": 145,
   "id": "02c4045f",
   "metadata": {},
   "outputs": [
    {
     "data": {
      "text/html": [
       "<div>\n",
       "<style scoped>\n",
       "    .dataframe tbody tr th:only-of-type {\n",
       "        vertical-align: middle;\n",
       "    }\n",
       "\n",
       "    .dataframe tbody tr th {\n",
       "        vertical-align: top;\n",
       "    }\n",
       "\n",
       "    .dataframe thead th {\n",
       "        text-align: right;\n",
       "    }\n",
       "</style>\n",
       "<table border=\"1\" class=\"dataframe\">\n",
       "  <thead>\n",
       "    <tr style=\"text-align: right;\">\n",
       "      <th></th>\n",
       "      <th>satisfaction</th>\n",
       "      <th>evaluation</th>\n",
       "      <th>number_of_projects</th>\n",
       "      <th>average_montly_hours</th>\n",
       "      <th>time_spend_company</th>\n",
       "      <th>work_accident</th>\n",
       "      <th>churn</th>\n",
       "      <th>promotion</th>\n",
       "      <th>department</th>\n",
       "      <th>salary</th>\n",
       "    </tr>\n",
       "  </thead>\n",
       "  <tbody>\n",
       "    <tr>\n",
       "      <th>14994</th>\n",
       "      <td>0.40</td>\n",
       "      <td>0.57</td>\n",
       "      <td>2</td>\n",
       "      <td>151</td>\n",
       "      <td>3</td>\n",
       "      <td>0</td>\n",
       "      <td>1</td>\n",
       "      <td>0</td>\n",
       "      <td>support</td>\n",
       "      <td>low</td>\n",
       "    </tr>\n",
       "    <tr>\n",
       "      <th>14995</th>\n",
       "      <td>0.37</td>\n",
       "      <td>0.48</td>\n",
       "      <td>2</td>\n",
       "      <td>160</td>\n",
       "      <td>3</td>\n",
       "      <td>0</td>\n",
       "      <td>1</td>\n",
       "      <td>0</td>\n",
       "      <td>support</td>\n",
       "      <td>low</td>\n",
       "    </tr>\n",
       "    <tr>\n",
       "      <th>14996</th>\n",
       "      <td>0.37</td>\n",
       "      <td>0.53</td>\n",
       "      <td>2</td>\n",
       "      <td>143</td>\n",
       "      <td>3</td>\n",
       "      <td>0</td>\n",
       "      <td>1</td>\n",
       "      <td>0</td>\n",
       "      <td>support</td>\n",
       "      <td>low</td>\n",
       "    </tr>\n",
       "    <tr>\n",
       "      <th>14997</th>\n",
       "      <td>0.11</td>\n",
       "      <td>0.96</td>\n",
       "      <td>6</td>\n",
       "      <td>280</td>\n",
       "      <td>4</td>\n",
       "      <td>0</td>\n",
       "      <td>1</td>\n",
       "      <td>0</td>\n",
       "      <td>support</td>\n",
       "      <td>low</td>\n",
       "    </tr>\n",
       "    <tr>\n",
       "      <th>14998</th>\n",
       "      <td>0.37</td>\n",
       "      <td>0.52</td>\n",
       "      <td>2</td>\n",
       "      <td>158</td>\n",
       "      <td>3</td>\n",
       "      <td>0</td>\n",
       "      <td>1</td>\n",
       "      <td>0</td>\n",
       "      <td>support</td>\n",
       "      <td>low</td>\n",
       "    </tr>\n",
       "  </tbody>\n",
       "</table>\n",
       "</div>"
      ],
      "text/plain": [
       "       satisfaction  evaluation  number_of_projects  average_montly_hours  \\\n",
       "14994          0.40        0.57                   2                   151   \n",
       "14995          0.37        0.48                   2                   160   \n",
       "14996          0.37        0.53                   2                   143   \n",
       "14997          0.11        0.96                   6                   280   \n",
       "14998          0.37        0.52                   2                   158   \n",
       "\n",
       "       time_spend_company  work_accident  churn  promotion department salary  \n",
       "14994                   3              0      1          0    support    low  \n",
       "14995                   3              0      1          0    support    low  \n",
       "14996                   3              0      1          0    support    low  \n",
       "14997                   4              0      1          0    support    low  \n",
       "14998                   3              0      1          0    support    low  "
      ]
     },
     "execution_count": 145,
     "metadata": {},
     "output_type": "execute_result"
    }
   ],
   "source": [
    "data.tail()"
   ]
  },
  {
   "cell_type": "code",
   "execution_count": 146,
   "id": "a881547b",
   "metadata": {},
   "outputs": [
    {
     "data": {
      "text/plain": [
       "(14999, 10)"
      ]
     },
     "execution_count": 146,
     "metadata": {},
     "output_type": "execute_result"
    }
   ],
   "source": [
    "data.shape"
   ]
  },
  {
   "cell_type": "code",
   "execution_count": 147,
   "id": "a9228126",
   "metadata": {},
   "outputs": [
    {
     "data": {
      "text/plain": [
       "Index(['satisfaction', 'evaluation', 'number_of_projects',\n",
       "       'average_montly_hours', 'time_spend_company', 'work_accident', 'churn',\n",
       "       'promotion', 'department', 'salary'],\n",
       "      dtype='object')"
      ]
     },
     "execution_count": 147,
     "metadata": {},
     "output_type": "execute_result"
    }
   ],
   "source": [
    "data.columns"
   ]
  },
  {
   "cell_type": "code",
   "execution_count": 148,
   "id": "6e58f39b",
   "metadata": {},
   "outputs": [
    {
     "name": "stdout",
     "output_type": "stream",
     "text": [
      "<class 'pandas.core.frame.DataFrame'>\n",
      "RangeIndex: 14999 entries, 0 to 14998\n",
      "Data columns (total 10 columns):\n",
      " #   Column                Non-Null Count  Dtype  \n",
      "---  ------                --------------  -----  \n",
      " 0   satisfaction          14999 non-null  float64\n",
      " 1   evaluation            14999 non-null  float64\n",
      " 2   number_of_projects    14999 non-null  int64  \n",
      " 3   average_montly_hours  14999 non-null  int64  \n",
      " 4   time_spend_company    14999 non-null  int64  \n",
      " 5   work_accident         14999 non-null  int64  \n",
      " 6   churn                 14999 non-null  int64  \n",
      " 7   promotion             14999 non-null  int64  \n",
      " 8   department            14999 non-null  object \n",
      " 9   salary                14999 non-null  object \n",
      "dtypes: float64(2), int64(6), object(2)\n",
      "memory usage: 1.1+ MB\n"
     ]
    }
   ],
   "source": [
    "data.info()"
   ]
  },
  {
   "cell_type": "markdown",
   "id": "c82f2c84",
   "metadata": {},
   "source": [
    "# 1. Missing values"
   ]
  },
  {
   "cell_type": "code",
   "execution_count": 149,
   "id": "27c4bfa7",
   "metadata": {},
   "outputs": [
    {
     "data": {
      "text/plain": [
       "satisfaction            0\n",
       "evaluation              0\n",
       "number_of_projects      0\n",
       "average_montly_hours    0\n",
       "time_spend_company      0\n",
       "work_accident           0\n",
       "churn                   0\n",
       "promotion               0\n",
       "department              0\n",
       "salary                  0\n",
       "dtype: int64"
      ]
     },
     "execution_count": 149,
     "metadata": {},
     "output_type": "execute_result"
    }
   ],
   "source": [
    "\n",
    "data.isna().sum()"
   ]
  },
  {
   "cell_type": "code",
   "execution_count": 150,
   "id": "8705106f",
   "metadata": {},
   "outputs": [
    {
     "data": {
      "text/plain": [
       "satisfaction            0.0\n",
       "evaluation              0.0\n",
       "number_of_projects      0.0\n",
       "average_montly_hours    0.0\n",
       "time_spend_company      0.0\n",
       "work_accident           0.0\n",
       "churn                   0.0\n",
       "promotion               0.0\n",
       "department              0.0\n",
       "salary                  0.0\n",
       "dtype: float64"
      ]
     },
     "execution_count": 150,
     "metadata": {},
     "output_type": "execute_result"
    }
   ],
   "source": [
    "data.isna().sum()/data.shape[0] * 100"
   ]
  },
  {
   "cell_type": "code",
   "execution_count": 151,
   "id": "203e05c8",
   "metadata": {},
   "outputs": [
    {
     "name": "stdout",
     "output_type": "stream",
     "text": [
      "<class 'pandas.core.frame.DataFrame'>\n",
      "RangeIndex: 14999 entries, 0 to 14998\n",
      "Data columns (total 10 columns):\n",
      " #   Column                Non-Null Count  Dtype  \n",
      "---  ------                --------------  -----  \n",
      " 0   satisfaction          14999 non-null  float64\n",
      " 1   evaluation            14999 non-null  float64\n",
      " 2   number_of_projects    14999 non-null  int64  \n",
      " 3   average_montly_hours  14999 non-null  int64  \n",
      " 4   time_spend_company    14999 non-null  int64  \n",
      " 5   work_accident         14999 non-null  int64  \n",
      " 6   churn                 14999 non-null  int64  \n",
      " 7   promotion             14999 non-null  int64  \n",
      " 8   department            14999 non-null  object \n",
      " 9   salary                14999 non-null  object \n",
      "dtypes: float64(2), int64(6), object(2)\n",
      "memory usage: 1.1+ MB\n"
     ]
    }
   ],
   "source": [
    "data.info()"
   ]
  },
  {
   "cell_type": "markdown",
   "id": "2e8d4eea",
   "metadata": {},
   "source": [
    "# outlayers"
   ]
  },
  {
   "cell_type": "code",
   "execution_count": 152,
   "id": "05580234",
   "metadata": {},
   "outputs": [
    {
     "name": "stdout",
     "output_type": "stream",
     "text": [
      "<class 'pandas.core.frame.DataFrame'>\n",
      "RangeIndex: 14999 entries, 0 to 14998\n",
      "Data columns (total 10 columns):\n",
      " #   Column                Non-Null Count  Dtype  \n",
      "---  ------                --------------  -----  \n",
      " 0   satisfaction          14999 non-null  float64\n",
      " 1   evaluation            14999 non-null  float64\n",
      " 2   number_of_projects    14999 non-null  int64  \n",
      " 3   average_montly_hours  14999 non-null  int64  \n",
      " 4   time_spend_company    14999 non-null  int64  \n",
      " 5   work_accident         14999 non-null  int64  \n",
      " 6   churn                 14999 non-null  int64  \n",
      " 7   promotion             14999 non-null  int64  \n",
      " 8   department            14999 non-null  object \n",
      " 9   salary                14999 non-null  object \n",
      "dtypes: float64(2), int64(6), object(2)\n",
      "memory usage: 1.1+ MB\n"
     ]
    }
   ],
   "source": [
    "data.info()"
   ]
  },
  {
   "cell_type": "code",
   "execution_count": 153,
   "id": "216aa2d2",
   "metadata": {},
   "outputs": [
    {
     "data": {
      "image/png": "[encoded data removed]",
      "text/plain": [
       "<Figure size 640x480 with 1 Axes>"
      ]
     },
     "metadata": {},
     "output_type": "display_data"
    }
   ],
   "source": [
    "### for finding outlayers there are two method IQR method and Z square metghod\n",
    "###IQR method-drow a box polt and find if there is any points layed on upper boundary and lower boundary\n",
    "\n",
    "plt.boxplot(data['satisfaction'])\n",
    "plt.show();"
   ]
  },
  {
   "cell_type": "code",
   "execution_count": 154,
   "id": "35ece8e5",
   "metadata": {},
   "outputs": [
    {
     "data": {
      "text/plain": [
       "count    14999.000000\n",
       "mean         0.612834\n",
       "std          0.248631\n",
       "min          0.090000\n",
       "25%          0.440000\n",
       "50%          0.640000\n",
       "75%          0.820000\n",
       "max          1.000000\n",
       "Name: satisfaction, dtype: float64"
      ]
     },
     "execution_count": 154,
     "metadata": {},
     "output_type": "execute_result"
    }
   ],
   "source": [
    "data['satisfaction'].describe()\n",
    "\n",
    "### if there is huge difference between 75% value and max value then there will be outlayer."
   ]
  },
  {
   "cell_type": "code",
   "execution_count": 155,
   "id": "4b8ff9ec",
   "metadata": {},
   "outputs": [
    {
     "data": {
      "image/png": "[encoded data removed]",
      "text/plain": [
       "<Figure size 640x480 with 1 Axes>"
      ]
     },
     "metadata": {},
     "output_type": "display_data"
    }
   ],
   "source": [
    "plt.boxplot(data['evaluation'])\n",
    "plt.show();"
   ]
  },
  {
   "cell_type": "code",
   "execution_count": 156,
   "id": "23e729e2",
   "metadata": {},
   "outputs": [
    {
     "data": {
      "image/png": "[encoded data removed]",
      "text/plain": [
       "<Figure size 640x480 with 1 Axes>"
      ]
     },
     "metadata": {},
     "output_type": "display_data"
    }
   ],
   "source": [
    "plt.boxplot(data['number_of_projects'])\n",
    "plt.show();"
   ]
  },
  {
   "cell_type": "code",
   "execution_count": 157,
   "id": "236cf901",
   "metadata": {},
   "outputs": [
    {
     "data": {
      "image/png": "[encoded data removed]",
      "text/plain": [
       "<Figure size 640x480 with 1 Axes>"
      ]
     },
     "metadata": {},
     "output_type": "display_data"
    }
   ],
   "source": [
    "plt.boxplot(data['average_montly_hours'])\n",
    "plt.show();"
   ]
  },
  {
   "cell_type": "code",
   "execution_count": 158,
   "id": "fb694063",
   "metadata": {},
   "outputs": [
    {
     "data": {
      "image/png": "[encoded data removed]",
      "text/plain": [
       "<Figure size 640x480 with 1 Axes>"
      ]
     },
     "metadata": {},
     "output_type": "display_data"
    }
   ],
   "source": [
    "plt.boxplot(data['time_spend_company'])\n",
    "plt.show();"
   ]
  },
  {
   "cell_type": "code",
   "execution_count": 159,
   "id": "237d7d8c",
   "metadata": {},
   "outputs": [
    {
     "data": {
      "text/plain": [
       "count    14999.000000\n",
       "mean         3.498233\n",
       "std          1.460136\n",
       "min          2.000000\n",
       "25%          3.000000\n",
       "50%          3.000000\n",
       "75%          4.000000\n",
       "max         10.000000\n",
       "Name: time_spend_company, dtype: float64"
      ]
     },
     "execution_count": 159,
     "metadata": {},
     "output_type": "execute_result"
    }
   ],
   "source": [
    "data['time_spend_company'].describe()"
   ]
  },
  {
   "cell_type": "code",
   "execution_count": 160,
   "id": "fe58f063",
   "metadata": {},
   "outputs": [
    {
     "data": {
      "image/png": "[encoded data removed]",
      "text/plain": [
       "<Figure size 640x480 with 1 Axes>"
      ]
     },
     "metadata": {},
     "output_type": "display_data"
    }
   ],
   "source": [
    "plt.boxplot(data['work_accident']) \n",
    "plt.show();"
   ]
  },
  {
   "cell_type": "code",
   "execution_count": 161,
   "id": "ac38f521",
   "metadata": {},
   "outputs": [
    {
     "data": {
      "text/plain": [
       "count    14999.000000\n",
       "mean         0.144610\n",
       "std          0.351719\n",
       "min          0.000000\n",
       "25%          0.000000\n",
       "50%          0.000000\n",
       "75%          0.000000\n",
       "max          1.000000\n",
       "Name: work_accident, dtype: float64"
      ]
     },
     "execution_count": 161,
     "metadata": {},
     "output_type": "execute_result"
    }
   ],
   "source": [
    "data['work_accident'].describe()"
   ]
  },
  {
   "cell_type": "code",
   "execution_count": 162,
   "id": "c947b268",
   "metadata": {},
   "outputs": [
    {
     "data": {
      "image/png": "[encoded data removed]",
      "text/plain": [
       "<Figure size 640x480 with 1 Axes>"
      ]
     },
     "metadata": {},
     "output_type": "display_data"
    }
   ],
   "source": [
    "plt.boxplot(data['churn'])\n",
    "plt.show();"
   ]
  },
  {
   "cell_type": "code",
   "execution_count": 163,
   "id": "b8be45f8",
   "metadata": {},
   "outputs": [
    {
     "data": {
      "image/png": "[encoded data removed]",
      "text/plain": [
       "<Figure size 640x480 with 1 Axes>"
      ]
     },
     "metadata": {},
     "output_type": "display_data"
    }
   ],
   "source": [
    "plt.boxplot(data['promotion'])\n",
    "plt.show();"
   ]
  },
  {
   "cell_type": "code",
   "execution_count": 164,
   "id": "bf5a76ed",
   "metadata": {},
   "outputs": [
    {
     "data": {
      "text/plain": [
       "count    14999.000000\n",
       "mean         0.238083\n",
       "std          0.425924\n",
       "min          0.000000\n",
       "25%          0.000000\n",
       "50%          0.000000\n",
       "75%          0.000000\n",
       "max          1.000000\n",
       "Name: churn, dtype: float64"
      ]
     },
     "execution_count": 164,
     "metadata": {},
     "output_type": "execute_result"
    }
   ],
   "source": [
    "data['churn'].describe()"
   ]
  },
  {
   "cell_type": "markdown",
   "id": "71d87bdd",
   "metadata": {},
   "source": [
    "# 3a-Handling outlayers"
   ]
  },
  {
   "cell_type": "markdown",
   "id": "e2e44144",
   "metadata": {},
   "source": [
    "### Transforming\n",
    "##2(A)-square root transformation -simple mrthod -finding square root of rate "
   ]
  },
  {
   "cell_type": "code",
   "execution_count": 165,
   "id": "810499a6",
   "metadata": {},
   "outputs": [],
   "source": [
    "data['squre_time_spend']=data['time_spend_company']** 0.5"
   ]
  },
  {
   "cell_type": "code",
   "execution_count": 166,
   "id": "41bcd039",
   "metadata": {},
   "outputs": [],
   "source": [
    "data['square_work_accident']=data['work_accident']** 0.5"
   ]
  },
  {
   "cell_type": "code",
   "execution_count": 167,
   "id": "04537e19",
   "metadata": {},
   "outputs": [],
   "source": [
    "data['square_churn']=data['churn']** 0.5"
   ]
  },
  {
   "cell_type": "code",
   "execution_count": 168,
   "id": "6c5c53d3",
   "metadata": {},
   "outputs": [],
   "source": [
    "data['square_promotion']=data['promotion']** 0.5"
   ]
  },
  {
   "cell_type": "code",
   "execution_count": 169,
   "id": "9bc991d4",
   "metadata": {},
   "outputs": [
    {
     "data": {
      "text/html": [
       "<div>\n",
       "<style scoped>\n",
       "    .dataframe tbody tr th:only-of-type {\n",
       "        vertical-align: middle;\n",
       "    }\n",
       "\n",
       "    .dataframe tbody tr th {\n",
       "        vertical-align: top;\n",
       "    }\n",
       "\n",
       "    .dataframe thead th {\n",
       "        text-align: right;\n",
       "    }\n",
       "</style>\n",
       "<table border=\"1\" class=\"dataframe\">\n",
       "  <thead>\n",
       "    <tr style=\"text-align: right;\">\n",
       "      <th></th>\n",
       "      <th>satisfaction</th>\n",
       "      <th>evaluation</th>\n",
       "      <th>number_of_projects</th>\n",
       "      <th>average_montly_hours</th>\n",
       "      <th>time_spend_company</th>\n",
       "      <th>work_accident</th>\n",
       "      <th>churn</th>\n",
       "      <th>promotion</th>\n",
       "      <th>department</th>\n",
       "      <th>salary</th>\n",
       "      <th>squre_time_spend</th>\n",
       "      <th>square_work_accident</th>\n",
       "      <th>square_churn</th>\n",
       "      <th>square_promotion</th>\n",
       "    </tr>\n",
       "  </thead>\n",
       "  <tbody>\n",
       "    <tr>\n",
       "      <th>0</th>\n",
       "      <td>0.38</td>\n",
       "      <td>0.53</td>\n",
       "      <td>2</td>\n",
       "      <td>157</td>\n",
       "      <td>3</td>\n",
       "      <td>0</td>\n",
       "      <td>1</td>\n",
       "      <td>0</td>\n",
       "      <td>sales</td>\n",
       "      <td>low</td>\n",
       "      <td>1.732051</td>\n",
       "      <td>0.0</td>\n",
       "      <td>1.0</td>\n",
       "      <td>0.0</td>\n",
       "    </tr>\n",
       "    <tr>\n",
       "      <th>1</th>\n",
       "      <td>0.80</td>\n",
       "      <td>0.86</td>\n",
       "      <td>5</td>\n",
       "      <td>262</td>\n",
       "      <td>6</td>\n",
       "      <td>0</td>\n",
       "      <td>1</td>\n",
       "      <td>0</td>\n",
       "      <td>sales</td>\n",
       "      <td>medium</td>\n",
       "      <td>2.449490</td>\n",
       "      <td>0.0</td>\n",
       "      <td>1.0</td>\n",
       "      <td>0.0</td>\n",
       "    </tr>\n",
       "    <tr>\n",
       "      <th>2</th>\n",
       "      <td>0.11</td>\n",
       "      <td>0.88</td>\n",
       "      <td>7</td>\n",
       "      <td>272</td>\n",
       "      <td>4</td>\n",
       "      <td>0</td>\n",
       "      <td>1</td>\n",
       "      <td>0</td>\n",
       "      <td>sales</td>\n",
       "      <td>medium</td>\n",
       "      <td>2.000000</td>\n",
       "      <td>0.0</td>\n",
       "      <td>1.0</td>\n",
       "      <td>0.0</td>\n",
       "    </tr>\n",
       "    <tr>\n",
       "      <th>3</th>\n",
       "      <td>0.72</td>\n",
       "      <td>0.87</td>\n",
       "      <td>5</td>\n",
       "      <td>223</td>\n",
       "      <td>5</td>\n",
       "      <td>0</td>\n",
       "      <td>1</td>\n",
       "      <td>0</td>\n",
       "      <td>sales</td>\n",
       "      <td>low</td>\n",
       "      <td>2.236068</td>\n",
       "      <td>0.0</td>\n",
       "      <td>1.0</td>\n",
       "      <td>0.0</td>\n",
       "    </tr>\n",
       "    <tr>\n",
       "      <th>4</th>\n",
       "      <td>0.37</td>\n",
       "      <td>0.52</td>\n",
       "      <td>2</td>\n",
       "      <td>159</td>\n",
       "      <td>3</td>\n",
       "      <td>0</td>\n",
       "      <td>1</td>\n",
       "      <td>0</td>\n",
       "      <td>sales</td>\n",
       "      <td>low</td>\n",
       "      <td>1.732051</td>\n",
       "      <td>0.0</td>\n",
       "      <td>1.0</td>\n",
       "      <td>0.0</td>\n",
       "    </tr>\n",
       "    <tr>\n",
       "      <th>...</th>\n",
       "      <td>...</td>\n",
       "      <td>...</td>\n",
       "      <td>...</td>\n",
       "      <td>...</td>\n",
       "      <td>...</td>\n",
       "      <td>...</td>\n",
       "      <td>...</td>\n",
       "      <td>...</td>\n",
       "      <td>...</td>\n",
       "      <td>...</td>\n",
       "      <td>...</td>\n",
       "      <td>...</td>\n",
       "      <td>...</td>\n",
       "      <td>...</td>\n",
       "    </tr>\n",
       "    <tr>\n",
       "      <th>14994</th>\n",
       "      <td>0.40</td>\n",
       "      <td>0.57</td>\n",
       "      <td>2</td>\n",
       "      <td>151</td>\n",
       "      <td>3</td>\n",
       "      <td>0</td>\n",
       "      <td>1</td>\n",
       "      <td>0</td>\n",
       "      <td>support</td>\n",
       "      <td>low</td>\n",
       "      <td>1.732051</td>\n",
       "      <td>0.0</td>\n",
       "      <td>1.0</td>\n",
       "      <td>0.0</td>\n",
       "    </tr>\n",
       "    <tr>\n",
       "      <th>14995</th>\n",
       "      <td>0.37</td>\n",
       "      <td>0.48</td>\n",
       "      <td>2</td>\n",
       "      <td>160</td>\n",
       "      <td>3</td>\n",
       "      <td>0</td>\n",
       "      <td>1</td>\n",
       "      <td>0</td>\n",
       "      <td>support</td>\n",
       "      <td>low</td>\n",
       "      <td>1.732051</td>\n",
       "      <td>0.0</td>\n",
       "      <td>1.0</td>\n",
       "      <td>0.0</td>\n",
       "    </tr>\n",
       "    <tr>\n",
       "      <th>14996</th>\n",
       "      <td>0.37</td>\n",
       "      <td>0.53</td>\n",
       "      <td>2</td>\n",
       "      <td>143</td>\n",
       "      <td>3</td>\n",
       "      <td>0</td>\n",
       "      <td>1</td>\n",
       "      <td>0</td>\n",
       "      <td>support</td>\n",
       "      <td>low</td>\n",
       "      <td>1.732051</td>\n",
       "      <td>0.0</td>\n",
       "      <td>1.0</td>\n",
       "      <td>0.0</td>\n",
       "    </tr>\n",
       "    <tr>\n",
       "      <th>14997</th>\n",
       "      <td>0.11</td>\n",
       "      <td>0.96</td>\n",
       "      <td>6</td>\n",
       "      <td>280</td>\n",
       "      <td>4</td>\n",
       "      <td>0</td>\n",
       "      <td>1</td>\n",
       "      <td>0</td>\n",
       "      <td>support</td>\n",
       "      <td>low</td>\n",
       "      <td>2.000000</td>\n",
       "      <td>0.0</td>\n",
       "      <td>1.0</td>\n",
       "      <td>0.0</td>\n",
       "    </tr>\n",
       "    <tr>\n",
       "      <th>14998</th>\n",
       "      <td>0.37</td>\n",
       "      <td>0.52</td>\n",
       "      <td>2</td>\n",
       "      <td>158</td>\n",
       "      <td>3</td>\n",
       "      <td>0</td>\n",
       "      <td>1</td>\n",
       "      <td>0</td>\n",
       "      <td>support</td>\n",
       "      <td>low</td>\n",
       "      <td>1.732051</td>\n",
       "      <td>0.0</td>\n",
       "      <td>1.0</td>\n",
       "      <td>0.0</td>\n",
       "    </tr>\n",
       "  </tbody>\n",
       "</table>\n",
       "<p>14999 rows × 14 columns</p>\n",
       "</div>"
      ],
      "text/plain": [
       "       satisfaction  evaluation  number_of_projects  average_montly_hours  \\\n",
       "0              0.38        0.53                   2                   157   \n",
       "1              0.80        0.86                   5                   262   \n",
       "2              0.11        0.88                   7                   272   \n",
       "3              0.72        0.87                   5                   223   \n",
       "4              0.37        0.52                   2                   159   \n",
       "...             ...         ...                 ...                   ...   \n",
       "14994          0.40        0.57                   2                   151   \n",
       "14995          0.37        0.48                   2                   160   \n",
       "14996          0.37        0.53                   2                   143   \n",
       "14997          0.11        0.96                   6                   280   \n",
       "14998          0.37        0.52                   2                   158   \n",
       "\n",
       "       time_spend_company  work_accident  churn  promotion department  salary  \\\n",
       "0                       3              0      1          0      sales     low   \n",
       "1                       6              0      1          0      sales  medium   \n",
       "2                       4              0      1          0      sales  medium   \n",
       "3                       5              0      1          0      sales     low   \n",
       "4                       3              0      1          0      sales     low   \n",
       "...                   ...            ...    ...        ...        ...     ...   \n",
       "14994                   3              0      1          0    support     low   \n",
       "14995                   3              0      1          0    support     low   \n",
       "14996                   3              0      1          0    support     low   \n",
       "14997                   4              0      1          0    support     low   \n",
       "14998                   3              0      1          0    support     low   \n",
       "\n",
       "       squre_time_spend  square_work_accident  square_churn  square_promotion  \n",
       "0              1.732051                   0.0           1.0               0.0  \n",
       "1              2.449490                   0.0           1.0               0.0  \n",
       "2              2.000000                   0.0           1.0               0.0  \n",
       "3              2.236068                   0.0           1.0               0.0  \n",
       "4              1.732051                   0.0           1.0               0.0  \n",
       "...                 ...                   ...           ...               ...  \n",
       "14994          1.732051                   0.0           1.0               0.0  \n",
       "14995          1.732051                   0.0           1.0               0.0  \n",
       "14996          1.732051                   0.0           1.0               0.0  \n",
       "14997          2.000000                   0.0           1.0               0.0  \n",
       "14998          1.732051                   0.0           1.0               0.0  \n",
       "\n",
       "[14999 rows x 14 columns]"
      ]
     },
     "execution_count": 169,
     "metadata": {},
     "output_type": "execute_result"
    }
   ],
   "source": [
    "data"
   ]
  },
  {
   "cell_type": "markdown",
   "id": "6c2b7ddf",
   "metadata": {},
   "source": [
    "# 4.Scaling"
   ]
  },
  {
   "cell_type": "raw",
   "id": "e0889d2b",
   "metadata": {},
   "source": [
    "Standardzation-(Zscore)"
   ]
  },
  {
   "cell_type": "code",
   "execution_count": 170,
   "id": "a2165903",
   "metadata": {},
   "outputs": [],
   "source": [
    "avg_stat=data['satisfaction'].mean()\n",
    "std_stat=data['satisfaction'].std()\n",
    "data['z_score_satisfaction']= (data['satisfaction'] - avg_stat) /std_stat"
   ]
  },
  {
   "cell_type": "code",
   "execution_count": 171,
   "id": "e814804d",
   "metadata": {},
   "outputs": [],
   "source": [
    "avg_evea=data['evaluation'].mean()\n",
    "std_evea=data['evaluation'].std()\n",
    "data['z_score_evaluation']= (data['evaluation'] - avg_evea) /std_evea"
   ]
  },
  {
   "cell_type": "code",
   "execution_count": 172,
   "id": "e876ff91",
   "metadata": {},
   "outputs": [],
   "source": [
    "avg_num=data['number_of_projects'].mean()\n",
    "std_num=data['number_of_projects'].std()\n",
    "data['z_score_number_of_projects']= (data['number_of_projects'] - avg_num) /std_num"
   ]
  },
  {
   "cell_type": "code",
   "execution_count": 173,
   "id": "892157f8",
   "metadata": {},
   "outputs": [],
   "source": [
    "avg_avg=data['average_montly_hours'].mean()\n",
    "std_avg=data['average_montly_hours'].std()\n",
    "data['z_score_average']= (data['average_montly_hours'] - avg_avg) /std_avg"
   ]
  },
  {
   "cell_type": "code",
   "execution_count": 174,
   "id": "aaa53242",
   "metadata": {},
   "outputs": [],
   "source": [
    "avg_tym=data['time_spend_company'].mean()\n",
    "std_tym=data['time_spend_company'].std()\n",
    "data['z_score_time']= (data['time_spend_company'] - avg_tym) /std_tym"
   ]
  },
  {
   "cell_type": "code",
   "execution_count": 175,
   "id": "b1542d44",
   "metadata": {},
   "outputs": [],
   "source": [
    "avg_work=data['work_accident'].mean()\n",
    "std_work=data['work_accident'].std()\n",
    "data['z_score_work_accident']= (data['work_accident'] - avg_work) /std_work"
   ]
  },
  {
   "cell_type": "code",
   "execution_count": 176,
   "id": "51654071",
   "metadata": {},
   "outputs": [],
   "source": [
    "avg_churn=data['churn'].mean()\n",
    "std_churn=data['churn'].std()\n",
    "data['z_score_churn']= (data['churn'] - avg_churn) /std_churn"
   ]
  },
  {
   "cell_type": "code",
   "execution_count": 177,
   "id": "3e202c77",
   "metadata": {},
   "outputs": [],
   "source": [
    "avg_promotion=data['promotion'].mean()\n",
    "std_promotion=data['promotion'].std()\n",
    "data['z_score_promotion']= (data['promotion'] - avg_promotion) /std_promotion"
   ]
  },
  {
   "cell_type": "code",
   "execution_count": 178,
   "id": "80fdd0b1",
   "metadata": {},
   "outputs": [
    {
     "data": {
      "text/html": [
       "<div>\n",
       "<style scoped>\n",
       "    .dataframe tbody tr th:only-of-type {\n",
       "        vertical-align: middle;\n",
       "    }\n",
       "\n",
       "    .dataframe tbody tr th {\n",
       "        vertical-align: top;\n",
       "    }\n",
       "\n",
       "    .dataframe thead th {\n",
       "        text-align: right;\n",
       "    }\n",
       "</style>\n",
       "<table border=\"1\" class=\"dataframe\">\n",
       "  <thead>\n",
       "    <tr style=\"text-align: right;\">\n",
       "      <th></th>\n",
       "      <th>satisfaction</th>\n",
       "      <th>evaluation</th>\n",
       "      <th>number_of_projects</th>\n",
       "      <th>average_montly_hours</th>\n",
       "      <th>time_spend_company</th>\n",
       "      <th>work_accident</th>\n",
       "      <th>churn</th>\n",
       "      <th>promotion</th>\n",
       "      <th>department</th>\n",
       "      <th>salary</th>\n",
       "      <th>...</th>\n",
       "      <th>square_churn</th>\n",
       "      <th>square_promotion</th>\n",
       "      <th>z_score_satisfaction</th>\n",
       "      <th>z_score_evaluation</th>\n",
       "      <th>z_score_number_of_projects</th>\n",
       "      <th>z_score_average</th>\n",
       "      <th>z_score_time</th>\n",
       "      <th>z_score_work_accident</th>\n",
       "      <th>z_score_churn</th>\n",
       "      <th>z_score_promotion</th>\n",
       "    </tr>\n",
       "  </thead>\n",
       "  <tbody>\n",
       "    <tr>\n",
       "      <th>0</th>\n",
       "      <td>0.38</td>\n",
       "      <td>0.53</td>\n",
       "      <td>2</td>\n",
       "      <td>157</td>\n",
       "      <td>3</td>\n",
       "      <td>0</td>\n",
       "      <td>1</td>\n",
       "      <td>0</td>\n",
       "      <td>sales</td>\n",
       "      <td>low</td>\n",
       "      <td>...</td>\n",
       "      <td>1.0</td>\n",
       "      <td>0.0</td>\n",
       "      <td>-0.936463</td>\n",
       "      <td>-1.087239</td>\n",
       "      <td>-1.462814</td>\n",
       "      <td>-0.882010</td>\n",
       "      <td>-0.341224</td>\n",
       "      <td>-0.411152</td>\n",
       "      <td>1.788857</td>\n",
       "      <td>-0.147407</td>\n",
       "    </tr>\n",
       "    <tr>\n",
       "      <th>1</th>\n",
       "      <td>0.80</td>\n",
       "      <td>0.86</td>\n",
       "      <td>5</td>\n",
       "      <td>262</td>\n",
       "      <td>6</td>\n",
       "      <td>0</td>\n",
       "      <td>1</td>\n",
       "      <td>0</td>\n",
       "      <td>sales</td>\n",
       "      <td>medium</td>\n",
       "      <td>...</td>\n",
       "      <td>1.0</td>\n",
       "      <td>0.0</td>\n",
       "      <td>0.752789</td>\n",
       "      <td>0.840679</td>\n",
       "      <td>0.971081</td>\n",
       "      <td>1.220382</td>\n",
       "      <td>1.713379</td>\n",
       "      <td>-0.411152</td>\n",
       "      <td>1.788857</td>\n",
       "      <td>-0.147407</td>\n",
       "    </tr>\n",
       "    <tr>\n",
       "      <th>2</th>\n",
       "      <td>0.11</td>\n",
       "      <td>0.88</td>\n",
       "      <td>7</td>\n",
       "      <td>272</td>\n",
       "      <td>4</td>\n",
       "      <td>0</td>\n",
       "      <td>1</td>\n",
       "      <td>0</td>\n",
       "      <td>sales</td>\n",
       "      <td>medium</td>\n",
       "      <td>...</td>\n",
       "      <td>1.0</td>\n",
       "      <td>0.0</td>\n",
       "      <td>-2.022412</td>\n",
       "      <td>0.957522</td>\n",
       "      <td>2.593677</td>\n",
       "      <td>1.420610</td>\n",
       "      <td>0.343644</td>\n",
       "      <td>-0.411152</td>\n",
       "      <td>1.788857</td>\n",
       "      <td>-0.147407</td>\n",
       "    </tr>\n",
       "    <tr>\n",
       "      <th>3</th>\n",
       "      <td>0.72</td>\n",
       "      <td>0.87</td>\n",
       "      <td>5</td>\n",
       "      <td>223</td>\n",
       "      <td>5</td>\n",
       "      <td>0</td>\n",
       "      <td>1</td>\n",
       "      <td>0</td>\n",
       "      <td>sales</td>\n",
       "      <td>low</td>\n",
       "      <td>...</td>\n",
       "      <td>1.0</td>\n",
       "      <td>0.0</td>\n",
       "      <td>0.431027</td>\n",
       "      <td>0.899101</td>\n",
       "      <td>0.971081</td>\n",
       "      <td>0.439493</td>\n",
       "      <td>1.028511</td>\n",
       "      <td>-0.411152</td>\n",
       "      <td>1.788857</td>\n",
       "      <td>-0.147407</td>\n",
       "    </tr>\n",
       "    <tr>\n",
       "      <th>4</th>\n",
       "      <td>0.37</td>\n",
       "      <td>0.52</td>\n",
       "      <td>2</td>\n",
       "      <td>159</td>\n",
       "      <td>3</td>\n",
       "      <td>0</td>\n",
       "      <td>1</td>\n",
       "      <td>0</td>\n",
       "      <td>sales</td>\n",
       "      <td>low</td>\n",
       "      <td>...</td>\n",
       "      <td>1.0</td>\n",
       "      <td>0.0</td>\n",
       "      <td>-0.976684</td>\n",
       "      <td>-1.145661</td>\n",
       "      <td>-1.462814</td>\n",
       "      <td>-0.841965</td>\n",
       "      <td>-0.341224</td>\n",
       "      <td>-0.411152</td>\n",
       "      <td>1.788857</td>\n",
       "      <td>-0.147407</td>\n",
       "    </tr>\n",
       "    <tr>\n",
       "      <th>...</th>\n",
       "      <td>...</td>\n",
       "      <td>...</td>\n",
       "      <td>...</td>\n",
       "      <td>...</td>\n",
       "      <td>...</td>\n",
       "      <td>...</td>\n",
       "      <td>...</td>\n",
       "      <td>...</td>\n",
       "      <td>...</td>\n",
       "      <td>...</td>\n",
       "      <td>...</td>\n",
       "      <td>...</td>\n",
       "      <td>...</td>\n",
       "      <td>...</td>\n",
       "      <td>...</td>\n",
       "      <td>...</td>\n",
       "      <td>...</td>\n",
       "      <td>...</td>\n",
       "      <td>...</td>\n",
       "      <td>...</td>\n",
       "      <td>...</td>\n",
       "    </tr>\n",
       "    <tr>\n",
       "      <th>14994</th>\n",
       "      <td>0.40</td>\n",
       "      <td>0.57</td>\n",
       "      <td>2</td>\n",
       "      <td>151</td>\n",
       "      <td>3</td>\n",
       "      <td>0</td>\n",
       "      <td>1</td>\n",
       "      <td>0</td>\n",
       "      <td>support</td>\n",
       "      <td>low</td>\n",
       "      <td>...</td>\n",
       "      <td>1.0</td>\n",
       "      <td>0.0</td>\n",
       "      <td>-0.856023</td>\n",
       "      <td>-0.853552</td>\n",
       "      <td>-1.462814</td>\n",
       "      <td>-1.002147</td>\n",
       "      <td>-0.341224</td>\n",
       "      <td>-0.411152</td>\n",
       "      <td>1.788857</td>\n",
       "      <td>-0.147407</td>\n",
       "    </tr>\n",
       "    <tr>\n",
       "      <th>14995</th>\n",
       "      <td>0.37</td>\n",
       "      <td>0.48</td>\n",
       "      <td>2</td>\n",
       "      <td>160</td>\n",
       "      <td>3</td>\n",
       "      <td>0</td>\n",
       "      <td>1</td>\n",
       "      <td>0</td>\n",
       "      <td>support</td>\n",
       "      <td>low</td>\n",
       "      <td>...</td>\n",
       "      <td>1.0</td>\n",
       "      <td>0.0</td>\n",
       "      <td>-0.976684</td>\n",
       "      <td>-1.379348</td>\n",
       "      <td>-1.462814</td>\n",
       "      <td>-0.821942</td>\n",
       "      <td>-0.341224</td>\n",
       "      <td>-0.411152</td>\n",
       "      <td>1.788857</td>\n",
       "      <td>-0.147407</td>\n",
       "    </tr>\n",
       "    <tr>\n",
       "      <th>14996</th>\n",
       "      <td>0.37</td>\n",
       "      <td>0.53</td>\n",
       "      <td>2</td>\n",
       "      <td>143</td>\n",
       "      <td>3</td>\n",
       "      <td>0</td>\n",
       "      <td>1</td>\n",
       "      <td>0</td>\n",
       "      <td>support</td>\n",
       "      <td>low</td>\n",
       "      <td>...</td>\n",
       "      <td>1.0</td>\n",
       "      <td>0.0</td>\n",
       "      <td>-0.976684</td>\n",
       "      <td>-1.087239</td>\n",
       "      <td>-1.462814</td>\n",
       "      <td>-1.162329</td>\n",
       "      <td>-0.341224</td>\n",
       "      <td>-0.411152</td>\n",
       "      <td>1.788857</td>\n",
       "      <td>-0.147407</td>\n",
       "    </tr>\n",
       "    <tr>\n",
       "      <th>14997</th>\n",
       "      <td>0.11</td>\n",
       "      <td>0.96</td>\n",
       "      <td>6</td>\n",
       "      <td>280</td>\n",
       "      <td>4</td>\n",
       "      <td>0</td>\n",
       "      <td>1</td>\n",
       "      <td>0</td>\n",
       "      <td>support</td>\n",
       "      <td>low</td>\n",
       "      <td>...</td>\n",
       "      <td>1.0</td>\n",
       "      <td>0.0</td>\n",
       "      <td>-2.022412</td>\n",
       "      <td>1.424896</td>\n",
       "      <td>1.782379</td>\n",
       "      <td>1.580792</td>\n",
       "      <td>0.343644</td>\n",
       "      <td>-0.411152</td>\n",
       "      <td>1.788857</td>\n",
       "      <td>-0.147407</td>\n",
       "    </tr>\n",
       "    <tr>\n",
       "      <th>14998</th>\n",
       "      <td>0.37</td>\n",
       "      <td>0.52</td>\n",
       "      <td>2</td>\n",
       "      <td>158</td>\n",
       "      <td>3</td>\n",
       "      <td>0</td>\n",
       "      <td>1</td>\n",
       "      <td>0</td>\n",
       "      <td>support</td>\n",
       "      <td>low</td>\n",
       "      <td>...</td>\n",
       "      <td>1.0</td>\n",
       "      <td>0.0</td>\n",
       "      <td>-0.976684</td>\n",
       "      <td>-1.145661</td>\n",
       "      <td>-1.462814</td>\n",
       "      <td>-0.861988</td>\n",
       "      <td>-0.341224</td>\n",
       "      <td>-0.411152</td>\n",
       "      <td>1.788857</td>\n",
       "      <td>-0.147407</td>\n",
       "    </tr>\n",
       "  </tbody>\n",
       "</table>\n",
       "<p>14999 rows × 22 columns</p>\n",
       "</div>"
      ],
      "text/plain": [
       "       satisfaction  evaluation  number_of_projects  average_montly_hours  \\\n",
       "0              0.38        0.53                   2                   157   \n",
       "1              0.80        0.86                   5                   262   \n",
       "2              0.11        0.88                   7                   272   \n",
       "3              0.72        0.87                   5                   223   \n",
       "4              0.37        0.52                   2                   159   \n",
       "...             ...         ...                 ...                   ...   \n",
       "14994          0.40        0.57                   2                   151   \n",
       "14995          0.37        0.48                   2                   160   \n",
       "14996          0.37        0.53                   2                   143   \n",
       "14997          0.11        0.96                   6                   280   \n",
       "14998          0.37        0.52                   2                   158   \n",
       "\n",
       "       time_spend_company  work_accident  churn  promotion department  salary  \\\n",
       "0                       3              0      1          0      sales     low   \n",
       "1                       6              0      1          0      sales  medium   \n",
       "2                       4              0      1          0      sales  medium   \n",
       "3                       5              0      1          0      sales     low   \n",
       "4                       3              0      1          0      sales     low   \n",
       "...                   ...            ...    ...        ...        ...     ...   \n",
       "14994                   3              0      1          0    support     low   \n",
       "14995                   3              0      1          0    support     low   \n",
       "14996                   3              0      1          0    support     low   \n",
       "14997                   4              0      1          0    support     low   \n",
       "14998                   3              0      1          0    support     low   \n",
       "\n",
       "       ...  square_churn  square_promotion  z_score_satisfaction  \\\n",
       "0      ...           1.0               0.0             -0.936463   \n",
       "1      ...           1.0               0.0              0.752789   \n",
       "2      ...           1.0               0.0             -2.022412   \n",
       "3      ...           1.0               0.0              0.431027   \n",
       "4      ...           1.0               0.0             -0.976684   \n",
       "...    ...           ...               ...                   ...   \n",
       "14994  ...           1.0               0.0             -0.856023   \n",
       "14995  ...           1.0               0.0             -0.976684   \n",
       "14996  ...           1.0               0.0             -0.976684   \n",
       "14997  ...           1.0               0.0             -2.022412   \n",
       "14998  ...           1.0               0.0             -0.976684   \n",
       "\n",
       "       z_score_evaluation  z_score_number_of_projects  z_score_average  \\\n",
       "0               -1.087239                   -1.462814        -0.882010   \n",
       "1                0.840679                    0.971081         1.220382   \n",
       "2                0.957522                    2.593677         1.420610   \n",
       "3                0.899101                    0.971081         0.439493   \n",
       "4               -1.145661                   -1.462814        -0.841965   \n",
       "...                   ...                         ...              ...   \n",
       "14994           -0.853552                   -1.462814        -1.002147   \n",
       "14995           -1.379348                   -1.462814        -0.821942   \n",
       "14996           -1.087239                   -1.462814        -1.162329   \n",
       "14997            1.424896                    1.782379         1.580792   \n",
       "14998           -1.145661                   -1.462814        -0.861988   \n",
       "\n",
       "       z_score_time  z_score_work_accident  z_score_churn  z_score_promotion  \n",
       "0         -0.341224              -0.411152       1.788857          -0.147407  \n",
       "1          1.713379              -0.411152       1.788857          -0.147407  \n",
       "2          0.343644              -0.411152       1.788857          -0.147407  \n",
       "3          1.028511              -0.411152       1.788857          -0.147407  \n",
       "4         -0.341224              -0.411152       1.788857          -0.147407  \n",
       "...             ...                    ...            ...                ...  \n",
       "14994     -0.341224              -0.411152       1.788857          -0.147407  \n",
       "14995     -0.341224              -0.411152       1.788857          -0.147407  \n",
       "14996     -0.341224              -0.411152       1.788857          -0.147407  \n",
       "14997      0.343644              -0.411152       1.788857          -0.147407  \n",
       "14998     -0.341224              -0.411152       1.788857          -0.147407  \n",
       "\n",
       "[14999 rows x 22 columns]"
      ]
     },
     "execution_count": 178,
     "metadata": {},
     "output_type": "execute_result"
    }
   ],
   "source": [
    "data"
   ]
  },
  {
   "cell_type": "markdown",
   "id": "58cf1265",
   "metadata": {},
   "source": [
    "# 5. Encoding"
   ]
  },
  {
   "cell_type": "code",
   "execution_count": 179,
   "id": "7c6b9c72",
   "metadata": {},
   "outputs": [
    {
     "name": "stdout",
     "output_type": "stream",
     "text": [
      "<class 'pandas.core.frame.DataFrame'>\n",
      "RangeIndex: 14999 entries, 0 to 14998\n",
      "Data columns (total 22 columns):\n",
      " #   Column                      Non-Null Count  Dtype  \n",
      "---  ------                      --------------  -----  \n",
      " 0   satisfaction                14999 non-null  float64\n",
      " 1   evaluation                  14999 non-null  float64\n",
      " 2   number_of_projects          14999 non-null  int64  \n",
      " 3   average_montly_hours        14999 non-null  int64  \n",
      " 4   time_spend_company          14999 non-null  int64  \n",
      " 5   work_accident               14999 non-null  int64  \n",
      " 6   churn                       14999 non-null  int64  \n",
      " 7   promotion                   14999 non-null  int64  \n",
      " 8   department                  14999 non-null  object \n",
      " 9   salary                      14999 non-null  object \n",
      " 10  squre_time_spend            14999 non-null  float64\n",
      " 11  square_work_accident        14999 non-null  float64\n",
      " 12  square_churn                14999 non-null  float64\n",
      " 13  square_promotion            14999 non-null  float64\n",
      " 14  z_score_satisfaction        14999 non-null  float64\n",
      " 15  z_score_evaluation          14999 non-null  float64\n",
      " 16  z_score_number_of_projects  14999 non-null  float64\n",
      " 17  z_score_average             14999 non-null  float64\n",
      " 18  z_score_time                14999 non-null  float64\n",
      " 19  z_score_work_accident       14999 non-null  float64\n",
      " 20  z_score_churn               14999 non-null  float64\n",
      " 21  z_score_promotion           14999 non-null  float64\n",
      "dtypes: float64(14), int64(6), object(2)\n",
      "memory usage: 2.5+ MB\n"
     ]
    }
   ],
   "source": [
    "data.info()"
   ]
  },
  {
   "cell_type": "code",
   "execution_count": 180,
   "id": "40bf3ee2",
   "metadata": {},
   "outputs": [
    {
     "data": {
      "text/plain": [
       "Index(['satisfaction', 'evaluation', 'number_of_projects',\n",
       "       'average_montly_hours', 'time_spend_company', 'work_accident', 'churn',\n",
       "       'promotion', 'department', 'salary', 'squre_time_spend',\n",
       "       'square_work_accident', 'square_churn', 'square_promotion',\n",
       "       'z_score_satisfaction', 'z_score_evaluation',\n",
       "       'z_score_number_of_projects', 'z_score_average', 'z_score_time',\n",
       "       'z_score_work_accident', 'z_score_churn', 'z_score_promotion'],\n",
       "      dtype='object')"
      ]
     },
     "execution_count": 180,
     "metadata": {},
     "output_type": "execute_result"
    }
   ],
   "source": [
    "data.columns"
   ]
  },
  {
   "cell_type": "code",
   "execution_count": 181,
   "id": "c3b937e9",
   "metadata": {},
   "outputs": [
    {
     "data": {
      "text/html": [
       "<div>\n",
       "<style scoped>\n",
       "    .dataframe tbody tr th:only-of-type {\n",
       "        vertical-align: middle;\n",
       "    }\n",
       "\n",
       "    .dataframe tbody tr th {\n",
       "        vertical-align: top;\n",
       "    }\n",
       "\n",
       "    .dataframe thead th {\n",
       "        text-align: right;\n",
       "    }\n",
       "</style>\n",
       "<table border=\"1\" class=\"dataframe\">\n",
       "  <thead>\n",
       "    <tr style=\"text-align: right;\">\n",
       "      <th></th>\n",
       "      <th>satisfaction</th>\n",
       "      <th>evaluation</th>\n",
       "      <th>number_of_projects</th>\n",
       "      <th>average_montly_hours</th>\n",
       "      <th>time_spend_company</th>\n",
       "      <th>work_accident</th>\n",
       "      <th>churn</th>\n",
       "      <th>promotion</th>\n",
       "      <th>department</th>\n",
       "      <th>salary</th>\n",
       "      <th>...</th>\n",
       "      <th>square_churn</th>\n",
       "      <th>square_promotion</th>\n",
       "      <th>z_score_satisfaction</th>\n",
       "      <th>z_score_evaluation</th>\n",
       "      <th>z_score_number_of_projects</th>\n",
       "      <th>z_score_average</th>\n",
       "      <th>z_score_time</th>\n",
       "      <th>z_score_work_accident</th>\n",
       "      <th>z_score_churn</th>\n",
       "      <th>z_score_promotion</th>\n",
       "    </tr>\n",
       "  </thead>\n",
       "  <tbody>\n",
       "    <tr>\n",
       "      <th>0</th>\n",
       "      <td>0.38</td>\n",
       "      <td>0.53</td>\n",
       "      <td>2</td>\n",
       "      <td>157</td>\n",
       "      <td>3</td>\n",
       "      <td>0</td>\n",
       "      <td>1</td>\n",
       "      <td>0</td>\n",
       "      <td>sales</td>\n",
       "      <td>low</td>\n",
       "      <td>...</td>\n",
       "      <td>1.0</td>\n",
       "      <td>0.0</td>\n",
       "      <td>-0.936463</td>\n",
       "      <td>-1.087239</td>\n",
       "      <td>-1.462814</td>\n",
       "      <td>-0.882010</td>\n",
       "      <td>-0.341224</td>\n",
       "      <td>-0.411152</td>\n",
       "      <td>1.788857</td>\n",
       "      <td>-0.147407</td>\n",
       "    </tr>\n",
       "    <tr>\n",
       "      <th>1</th>\n",
       "      <td>0.80</td>\n",
       "      <td>0.86</td>\n",
       "      <td>5</td>\n",
       "      <td>262</td>\n",
       "      <td>6</td>\n",
       "      <td>0</td>\n",
       "      <td>1</td>\n",
       "      <td>0</td>\n",
       "      <td>sales</td>\n",
       "      <td>medium</td>\n",
       "      <td>...</td>\n",
       "      <td>1.0</td>\n",
       "      <td>0.0</td>\n",
       "      <td>0.752789</td>\n",
       "      <td>0.840679</td>\n",
       "      <td>0.971081</td>\n",
       "      <td>1.220382</td>\n",
       "      <td>1.713379</td>\n",
       "      <td>-0.411152</td>\n",
       "      <td>1.788857</td>\n",
       "      <td>-0.147407</td>\n",
       "    </tr>\n",
       "    <tr>\n",
       "      <th>2</th>\n",
       "      <td>0.11</td>\n",
       "      <td>0.88</td>\n",
       "      <td>7</td>\n",
       "      <td>272</td>\n",
       "      <td>4</td>\n",
       "      <td>0</td>\n",
       "      <td>1</td>\n",
       "      <td>0</td>\n",
       "      <td>sales</td>\n",
       "      <td>medium</td>\n",
       "      <td>...</td>\n",
       "      <td>1.0</td>\n",
       "      <td>0.0</td>\n",
       "      <td>-2.022412</td>\n",
       "      <td>0.957522</td>\n",
       "      <td>2.593677</td>\n",
       "      <td>1.420610</td>\n",
       "      <td>0.343644</td>\n",
       "      <td>-0.411152</td>\n",
       "      <td>1.788857</td>\n",
       "      <td>-0.147407</td>\n",
       "    </tr>\n",
       "    <tr>\n",
       "      <th>3</th>\n",
       "      <td>0.72</td>\n",
       "      <td>0.87</td>\n",
       "      <td>5</td>\n",
       "      <td>223</td>\n",
       "      <td>5</td>\n",
       "      <td>0</td>\n",
       "      <td>1</td>\n",
       "      <td>0</td>\n",
       "      <td>sales</td>\n",
       "      <td>low</td>\n",
       "      <td>...</td>\n",
       "      <td>1.0</td>\n",
       "      <td>0.0</td>\n",
       "      <td>0.431027</td>\n",
       "      <td>0.899101</td>\n",
       "      <td>0.971081</td>\n",
       "      <td>0.439493</td>\n",
       "      <td>1.028511</td>\n",
       "      <td>-0.411152</td>\n",
       "      <td>1.788857</td>\n",
       "      <td>-0.147407</td>\n",
       "    </tr>\n",
       "    <tr>\n",
       "      <th>4</th>\n",
       "      <td>0.37</td>\n",
       "      <td>0.52</td>\n",
       "      <td>2</td>\n",
       "      <td>159</td>\n",
       "      <td>3</td>\n",
       "      <td>0</td>\n",
       "      <td>1</td>\n",
       "      <td>0</td>\n",
       "      <td>sales</td>\n",
       "      <td>low</td>\n",
       "      <td>...</td>\n",
       "      <td>1.0</td>\n",
       "      <td>0.0</td>\n",
       "      <td>-0.976684</td>\n",
       "      <td>-1.145661</td>\n",
       "      <td>-1.462814</td>\n",
       "      <td>-0.841965</td>\n",
       "      <td>-0.341224</td>\n",
       "      <td>-0.411152</td>\n",
       "      <td>1.788857</td>\n",
       "      <td>-0.147407</td>\n",
       "    </tr>\n",
       "    <tr>\n",
       "      <th>...</th>\n",
       "      <td>...</td>\n",
       "      <td>...</td>\n",
       "      <td>...</td>\n",
       "      <td>...</td>\n",
       "      <td>...</td>\n",
       "      <td>...</td>\n",
       "      <td>...</td>\n",
       "      <td>...</td>\n",
       "      <td>...</td>\n",
       "      <td>...</td>\n",
       "      <td>...</td>\n",
       "      <td>...</td>\n",
       "      <td>...</td>\n",
       "      <td>...</td>\n",
       "      <td>...</td>\n",
       "      <td>...</td>\n",
       "      <td>...</td>\n",
       "      <td>...</td>\n",
       "      <td>...</td>\n",
       "      <td>...</td>\n",
       "      <td>...</td>\n",
       "    </tr>\n",
       "    <tr>\n",
       "      <th>14994</th>\n",
       "      <td>0.40</td>\n",
       "      <td>0.57</td>\n",
       "      <td>2</td>\n",
       "      <td>151</td>\n",
       "      <td>3</td>\n",
       "      <td>0</td>\n",
       "      <td>1</td>\n",
       "      <td>0</td>\n",
       "      <td>support</td>\n",
       "      <td>low</td>\n",
       "      <td>...</td>\n",
       "      <td>1.0</td>\n",
       "      <td>0.0</td>\n",
       "      <td>-0.856023</td>\n",
       "      <td>-0.853552</td>\n",
       "      <td>-1.462814</td>\n",
       "      <td>-1.002147</td>\n",
       "      <td>-0.341224</td>\n",
       "      <td>-0.411152</td>\n",
       "      <td>1.788857</td>\n",
       "      <td>-0.147407</td>\n",
       "    </tr>\n",
       "    <tr>\n",
       "      <th>14995</th>\n",
       "      <td>0.37</td>\n",
       "      <td>0.48</td>\n",
       "      <td>2</td>\n",
       "      <td>160</td>\n",
       "      <td>3</td>\n",
       "      <td>0</td>\n",
       "      <td>1</td>\n",
       "      <td>0</td>\n",
       "      <td>support</td>\n",
       "      <td>low</td>\n",
       "      <td>...</td>\n",
       "      <td>1.0</td>\n",
       "      <td>0.0</td>\n",
       "      <td>-0.976684</td>\n",
       "      <td>-1.379348</td>\n",
       "      <td>-1.462814</td>\n",
       "      <td>-0.821942</td>\n",
       "      <td>-0.341224</td>\n",
       "      <td>-0.411152</td>\n",
       "      <td>1.788857</td>\n",
       "      <td>-0.147407</td>\n",
       "    </tr>\n",
       "    <tr>\n",
       "      <th>14996</th>\n",
       "      <td>0.37</td>\n",
       "      <td>0.53</td>\n",
       "      <td>2</td>\n",
       "      <td>143</td>\n",
       "      <td>3</td>\n",
       "      <td>0</td>\n",
       "      <td>1</td>\n",
       "      <td>0</td>\n",
       "      <td>support</td>\n",
       "      <td>low</td>\n",
       "      <td>...</td>\n",
       "      <td>1.0</td>\n",
       "      <td>0.0</td>\n",
       "      <td>-0.976684</td>\n",
       "      <td>-1.087239</td>\n",
       "      <td>-1.462814</td>\n",
       "      <td>-1.162329</td>\n",
       "      <td>-0.341224</td>\n",
       "      <td>-0.411152</td>\n",
       "      <td>1.788857</td>\n",
       "      <td>-0.147407</td>\n",
       "    </tr>\n",
       "    <tr>\n",
       "      <th>14997</th>\n",
       "      <td>0.11</td>\n",
       "      <td>0.96</td>\n",
       "      <td>6</td>\n",
       "      <td>280</td>\n",
       "      <td>4</td>\n",
       "      <td>0</td>\n",
       "      <td>1</td>\n",
       "      <td>0</td>\n",
       "      <td>support</td>\n",
       "      <td>low</td>\n",
       "      <td>...</td>\n",
       "      <td>1.0</td>\n",
       "      <td>0.0</td>\n",
       "      <td>-2.022412</td>\n",
       "      <td>1.424896</td>\n",
       "      <td>1.782379</td>\n",
       "      <td>1.580792</td>\n",
       "      <td>0.343644</td>\n",
       "      <td>-0.411152</td>\n",
       "      <td>1.788857</td>\n",
       "      <td>-0.147407</td>\n",
       "    </tr>\n",
       "    <tr>\n",
       "      <th>14998</th>\n",
       "      <td>0.37</td>\n",
       "      <td>0.52</td>\n",
       "      <td>2</td>\n",
       "      <td>158</td>\n",
       "      <td>3</td>\n",
       "      <td>0</td>\n",
       "      <td>1</td>\n",
       "      <td>0</td>\n",
       "      <td>support</td>\n",
       "      <td>low</td>\n",
       "      <td>...</td>\n",
       "      <td>1.0</td>\n",
       "      <td>0.0</td>\n",
       "      <td>-0.976684</td>\n",
       "      <td>-1.145661</td>\n",
       "      <td>-1.462814</td>\n",
       "      <td>-0.861988</td>\n",
       "      <td>-0.341224</td>\n",
       "      <td>-0.411152</td>\n",
       "      <td>1.788857</td>\n",
       "      <td>-0.147407</td>\n",
       "    </tr>\n",
       "  </tbody>\n",
       "</table>\n",
       "<p>14999 rows × 22 columns</p>\n",
       "</div>"
      ],
      "text/plain": [
       "       satisfaction  evaluation  number_of_projects  average_montly_hours  \\\n",
       "0              0.38        0.53                   2                   157   \n",
       "1              0.80        0.86                   5                   262   \n",
       "2              0.11        0.88                   7                   272   \n",
       "3              0.72        0.87                   5                   223   \n",
       "4              0.37        0.52                   2                   159   \n",
       "...             ...         ...                 ...                   ...   \n",
       "14994          0.40        0.57                   2                   151   \n",
       "14995          0.37        0.48                   2                   160   \n",
       "14996          0.37        0.53                   2                   143   \n",
       "14997          0.11        0.96                   6                   280   \n",
       "14998          0.37        0.52                   2                   158   \n",
       "\n",
       "       time_spend_company  work_accident  churn  promotion department  salary  \\\n",
       "0                       3              0      1          0      sales     low   \n",
       "1                       6              0      1          0      sales  medium   \n",
       "2                       4              0      1          0      sales  medium   \n",
       "3                       5              0      1          0      sales     low   \n",
       "4                       3              0      1          0      sales     low   \n",
       "...                   ...            ...    ...        ...        ...     ...   \n",
       "14994                   3              0      1          0    support     low   \n",
       "14995                   3              0      1          0    support     low   \n",
       "14996                   3              0      1          0    support     low   \n",
       "14997                   4              0      1          0    support     low   \n",
       "14998                   3              0      1          0    support     low   \n",
       "\n",
       "       ...  square_churn  square_promotion  z_score_satisfaction  \\\n",
       "0      ...           1.0               0.0             -0.936463   \n",
       "1      ...           1.0               0.0              0.752789   \n",
       "2      ...           1.0               0.0             -2.022412   \n",
       "3      ...           1.0               0.0              0.431027   \n",
       "4      ...           1.0               0.0             -0.976684   \n",
       "...    ...           ...               ...                   ...   \n",
       "14994  ...           1.0               0.0             -0.856023   \n",
       "14995  ...           1.0               0.0             -0.976684   \n",
       "14996  ...           1.0               0.0             -0.976684   \n",
       "14997  ...           1.0               0.0             -2.022412   \n",
       "14998  ...           1.0               0.0             -0.976684   \n",
       "\n",
       "       z_score_evaluation  z_score_number_of_projects  z_score_average  \\\n",
       "0               -1.087239                   -1.462814        -0.882010   \n",
       "1                0.840679                    0.971081         1.220382   \n",
       "2                0.957522                    2.593677         1.420610   \n",
       "3                0.899101                    0.971081         0.439493   \n",
       "4               -1.145661                   -1.462814        -0.841965   \n",
       "...                   ...                         ...              ...   \n",
       "14994           -0.853552                   -1.462814        -1.002147   \n",
       "14995           -1.379348                   -1.462814        -0.821942   \n",
       "14996           -1.087239                   -1.462814        -1.162329   \n",
       "14997            1.424896                    1.782379         1.580792   \n",
       "14998           -1.145661                   -1.462814        -0.861988   \n",
       "\n",
       "       z_score_time  z_score_work_accident  z_score_churn  z_score_promotion  \n",
       "0         -0.341224              -0.411152       1.788857          -0.147407  \n",
       "1          1.713379              -0.411152       1.788857          -0.147407  \n",
       "2          0.343644              -0.411152       1.788857          -0.147407  \n",
       "3          1.028511              -0.411152       1.788857          -0.147407  \n",
       "4         -0.341224              -0.411152       1.788857          -0.147407  \n",
       "...             ...                    ...            ...                ...  \n",
       "14994     -0.341224              -0.411152       1.788857          -0.147407  \n",
       "14995     -0.341224              -0.411152       1.788857          -0.147407  \n",
       "14996     -0.341224              -0.411152       1.788857          -0.147407  \n",
       "14997      0.343644              -0.411152       1.788857          -0.147407  \n",
       "14998     -0.341224              -0.411152       1.788857          -0.147407  \n",
       "\n",
       "[14999 rows x 22 columns]"
      ]
     },
     "execution_count": 181,
     "metadata": {},
     "output_type": "execute_result"
    }
   ],
   "source": [
    "data"
   ]
  },
  {
   "cell_type": "code",
   "execution_count": 182,
   "id": "ebb929d4",
   "metadata": {},
   "outputs": [
    {
     "data": {
      "text/plain": [
       "array(['low', 'medium', 'high'], dtype=object)"
      ]
     },
     "execution_count": 182,
     "metadata": {},
     "output_type": "execute_result"
    }
   ],
   "source": [
    "data['salary'].unique()"
   ]
  },
  {
   "cell_type": "code",
   "execution_count": 183,
   "id": "3cf8b1ba",
   "metadata": {},
   "outputs": [],
   "source": [
    "dict1={'low':1,'medium':2,'high':3}"
   ]
  },
  {
   "cell_type": "code",
   "execution_count": 184,
   "id": "a45fffa6",
   "metadata": {},
   "outputs": [],
   "source": [
    "data['salary']=data['salary'].map(dict1)"
   ]
  },
  {
   "cell_type": "code",
   "execution_count": 185,
   "id": "375c128c",
   "metadata": {},
   "outputs": [
    {
     "data": {
      "text/html": [
       "<div>\n",
       "<style scoped>\n",
       "    .dataframe tbody tr th:only-of-type {\n",
       "        vertical-align: middle;\n",
       "    }\n",
       "\n",
       "    .dataframe tbody tr th {\n",
       "        vertical-align: top;\n",
       "    }\n",
       "\n",
       "    .dataframe thead th {\n",
       "        text-align: right;\n",
       "    }\n",
       "</style>\n",
       "<table border=\"1\" class=\"dataframe\">\n",
       "  <thead>\n",
       "    <tr style=\"text-align: right;\">\n",
       "      <th></th>\n",
       "      <th>satisfaction</th>\n",
       "      <th>evaluation</th>\n",
       "      <th>number_of_projects</th>\n",
       "      <th>average_montly_hours</th>\n",
       "      <th>time_spend_company</th>\n",
       "      <th>work_accident</th>\n",
       "      <th>churn</th>\n",
       "      <th>promotion</th>\n",
       "      <th>department</th>\n",
       "      <th>salary</th>\n",
       "      <th>...</th>\n",
       "      <th>square_churn</th>\n",
       "      <th>square_promotion</th>\n",
       "      <th>z_score_satisfaction</th>\n",
       "      <th>z_score_evaluation</th>\n",
       "      <th>z_score_number_of_projects</th>\n",
       "      <th>z_score_average</th>\n",
       "      <th>z_score_time</th>\n",
       "      <th>z_score_work_accident</th>\n",
       "      <th>z_score_churn</th>\n",
       "      <th>z_score_promotion</th>\n",
       "    </tr>\n",
       "  </thead>\n",
       "  <tbody>\n",
       "    <tr>\n",
       "      <th>0</th>\n",
       "      <td>0.38</td>\n",
       "      <td>0.53</td>\n",
       "      <td>2</td>\n",
       "      <td>157</td>\n",
       "      <td>3</td>\n",
       "      <td>0</td>\n",
       "      <td>1</td>\n",
       "      <td>0</td>\n",
       "      <td>sales</td>\n",
       "      <td>1</td>\n",
       "      <td>...</td>\n",
       "      <td>1.0</td>\n",
       "      <td>0.0</td>\n",
       "      <td>-0.936463</td>\n",
       "      <td>-1.087239</td>\n",
       "      <td>-1.462814</td>\n",
       "      <td>-0.882010</td>\n",
       "      <td>-0.341224</td>\n",
       "      <td>-0.411152</td>\n",
       "      <td>1.788857</td>\n",
       "      <td>-0.147407</td>\n",
       "    </tr>\n",
       "    <tr>\n",
       "      <th>1</th>\n",
       "      <td>0.80</td>\n",
       "      <td>0.86</td>\n",
       "      <td>5</td>\n",
       "      <td>262</td>\n",
       "      <td>6</td>\n",
       "      <td>0</td>\n",
       "      <td>1</td>\n",
       "      <td>0</td>\n",
       "      <td>sales</td>\n",
       "      <td>2</td>\n",
       "      <td>...</td>\n",
       "      <td>1.0</td>\n",
       "      <td>0.0</td>\n",
       "      <td>0.752789</td>\n",
       "      <td>0.840679</td>\n",
       "      <td>0.971081</td>\n",
       "      <td>1.220382</td>\n",
       "      <td>1.713379</td>\n",
       "      <td>-0.411152</td>\n",
       "      <td>1.788857</td>\n",
       "      <td>-0.147407</td>\n",
       "    </tr>\n",
       "    <tr>\n",
       "      <th>2</th>\n",
       "      <td>0.11</td>\n",
       "      <td>0.88</td>\n",
       "      <td>7</td>\n",
       "      <td>272</td>\n",
       "      <td>4</td>\n",
       "      <td>0</td>\n",
       "      <td>1</td>\n",
       "      <td>0</td>\n",
       "      <td>sales</td>\n",
       "      <td>2</td>\n",
       "      <td>...</td>\n",
       "      <td>1.0</td>\n",
       "      <td>0.0</td>\n",
       "      <td>-2.022412</td>\n",
       "      <td>0.957522</td>\n",
       "      <td>2.593677</td>\n",
       "      <td>1.420610</td>\n",
       "      <td>0.343644</td>\n",
       "      <td>-0.411152</td>\n",
       "      <td>1.788857</td>\n",
       "      <td>-0.147407</td>\n",
       "    </tr>\n",
       "    <tr>\n",
       "      <th>3</th>\n",
       "      <td>0.72</td>\n",
       "      <td>0.87</td>\n",
       "      <td>5</td>\n",
       "      <td>223</td>\n",
       "      <td>5</td>\n",
       "      <td>0</td>\n",
       "      <td>1</td>\n",
       "      <td>0</td>\n",
       "      <td>sales</td>\n",
       "      <td>1</td>\n",
       "      <td>...</td>\n",
       "      <td>1.0</td>\n",
       "      <td>0.0</td>\n",
       "      <td>0.431027</td>\n",
       "      <td>0.899101</td>\n",
       "      <td>0.971081</td>\n",
       "      <td>0.439493</td>\n",
       "      <td>1.028511</td>\n",
       "      <td>-0.411152</td>\n",
       "      <td>1.788857</td>\n",
       "      <td>-0.147407</td>\n",
       "    </tr>\n",
       "    <tr>\n",
       "      <th>4</th>\n",
       "      <td>0.37</td>\n",
       "      <td>0.52</td>\n",
       "      <td>2</td>\n",
       "      <td>159</td>\n",
       "      <td>3</td>\n",
       "      <td>0</td>\n",
       "      <td>1</td>\n",
       "      <td>0</td>\n",
       "      <td>sales</td>\n",
       "      <td>1</td>\n",
       "      <td>...</td>\n",
       "      <td>1.0</td>\n",
       "      <td>0.0</td>\n",
       "      <td>-0.976684</td>\n",
       "      <td>-1.145661</td>\n",
       "      <td>-1.462814</td>\n",
       "      <td>-0.841965</td>\n",
       "      <td>-0.341224</td>\n",
       "      <td>-0.411152</td>\n",
       "      <td>1.788857</td>\n",
       "      <td>-0.147407</td>\n",
       "    </tr>\n",
       "    <tr>\n",
       "      <th>...</th>\n",
       "      <td>...</td>\n",
       "      <td>...</td>\n",
       "      <td>...</td>\n",
       "      <td>...</td>\n",
       "      <td>...</td>\n",
       "      <td>...</td>\n",
       "      <td>...</td>\n",
       "      <td>...</td>\n",
       "      <td>...</td>\n",
       "      <td>...</td>\n",
       "      <td>...</td>\n",
       "      <td>...</td>\n",
       "      <td>...</td>\n",
       "      <td>...</td>\n",
       "      <td>...</td>\n",
       "      <td>...</td>\n",
       "      <td>...</td>\n",
       "      <td>...</td>\n",
       "      <td>...</td>\n",
       "      <td>...</td>\n",
       "      <td>...</td>\n",
       "    </tr>\n",
       "    <tr>\n",
       "      <th>14994</th>\n",
       "      <td>0.40</td>\n",
       "      <td>0.57</td>\n",
       "      <td>2</td>\n",
       "      <td>151</td>\n",
       "      <td>3</td>\n",
       "      <td>0</td>\n",
       "      <td>1</td>\n",
       "      <td>0</td>\n",
       "      <td>support</td>\n",
       "      <td>1</td>\n",
       "      <td>...</td>\n",
       "      <td>1.0</td>\n",
       "      <td>0.0</td>\n",
       "      <td>-0.856023</td>\n",
       "      <td>-0.853552</td>\n",
       "      <td>-1.462814</td>\n",
       "      <td>-1.002147</td>\n",
       "      <td>-0.341224</td>\n",
       "      <td>-0.411152</td>\n",
       "      <td>1.788857</td>\n",
       "      <td>-0.147407</td>\n",
       "    </tr>\n",
       "    <tr>\n",
       "      <th>14995</th>\n",
       "      <td>0.37</td>\n",
       "      <td>0.48</td>\n",
       "      <td>2</td>\n",
       "      <td>160</td>\n",
       "      <td>3</td>\n",
       "      <td>0</td>\n",
       "      <td>1</td>\n",
       "      <td>0</td>\n",
       "      <td>support</td>\n",
       "      <td>1</td>\n",
       "      <td>...</td>\n",
       "      <td>1.0</td>\n",
       "      <td>0.0</td>\n",
       "      <td>-0.976684</td>\n",
       "      <td>-1.379348</td>\n",
       "      <td>-1.462814</td>\n",
       "      <td>-0.821942</td>\n",
       "      <td>-0.341224</td>\n",
       "      <td>-0.411152</td>\n",
       "      <td>1.788857</td>\n",
       "      <td>-0.147407</td>\n",
       "    </tr>\n",
       "    <tr>\n",
       "      <th>14996</th>\n",
       "      <td>0.37</td>\n",
       "      <td>0.53</td>\n",
       "      <td>2</td>\n",
       "      <td>143</td>\n",
       "      <td>3</td>\n",
       "      <td>0</td>\n",
       "      <td>1</td>\n",
       "      <td>0</td>\n",
       "      <td>support</td>\n",
       "      <td>1</td>\n",
       "      <td>...</td>\n",
       "      <td>1.0</td>\n",
       "      <td>0.0</td>\n",
       "      <td>-0.976684</td>\n",
       "      <td>-1.087239</td>\n",
       "      <td>-1.462814</td>\n",
       "      <td>-1.162329</td>\n",
       "      <td>-0.341224</td>\n",
       "      <td>-0.411152</td>\n",
       "      <td>1.788857</td>\n",
       "      <td>-0.147407</td>\n",
       "    </tr>\n",
       "    <tr>\n",
       "      <th>14997</th>\n",
       "      <td>0.11</td>\n",
       "      <td>0.96</td>\n",
       "      <td>6</td>\n",
       "      <td>280</td>\n",
       "      <td>4</td>\n",
       "      <td>0</td>\n",
       "      <td>1</td>\n",
       "      <td>0</td>\n",
       "      <td>support</td>\n",
       "      <td>1</td>\n",
       "      <td>...</td>\n",
       "      <td>1.0</td>\n",
       "      <td>0.0</td>\n",
       "      <td>-2.022412</td>\n",
       "      <td>1.424896</td>\n",
       "      <td>1.782379</td>\n",
       "      <td>1.580792</td>\n",
       "      <td>0.343644</td>\n",
       "      <td>-0.411152</td>\n",
       "      <td>1.788857</td>\n",
       "      <td>-0.147407</td>\n",
       "    </tr>\n",
       "    <tr>\n",
       "      <th>14998</th>\n",
       "      <td>0.37</td>\n",
       "      <td>0.52</td>\n",
       "      <td>2</td>\n",
       "      <td>158</td>\n",
       "      <td>3</td>\n",
       "      <td>0</td>\n",
       "      <td>1</td>\n",
       "      <td>0</td>\n",
       "      <td>support</td>\n",
       "      <td>1</td>\n",
       "      <td>...</td>\n",
       "      <td>1.0</td>\n",
       "      <td>0.0</td>\n",
       "      <td>-0.976684</td>\n",
       "      <td>-1.145661</td>\n",
       "      <td>-1.462814</td>\n",
       "      <td>-0.861988</td>\n",
       "      <td>-0.341224</td>\n",
       "      <td>-0.411152</td>\n",
       "      <td>1.788857</td>\n",
       "      <td>-0.147407</td>\n",
       "    </tr>\n",
       "  </tbody>\n",
       "</table>\n",
       "<p>14999 rows × 22 columns</p>\n",
       "</div>"
      ],
      "text/plain": [
       "       satisfaction  evaluation  number_of_projects  average_montly_hours  \\\n",
       "0              0.38        0.53                   2                   157   \n",
       "1              0.80        0.86                   5                   262   \n",
       "2              0.11        0.88                   7                   272   \n",
       "3              0.72        0.87                   5                   223   \n",
       "4              0.37        0.52                   2                   159   \n",
       "...             ...         ...                 ...                   ...   \n",
       "14994          0.40        0.57                   2                   151   \n",
       "14995          0.37        0.48                   2                   160   \n",
       "14996          0.37        0.53                   2                   143   \n",
       "14997          0.11        0.96                   6                   280   \n",
       "14998          0.37        0.52                   2                   158   \n",
       "\n",
       "       time_spend_company  work_accident  churn  promotion department  salary  \\\n",
       "0                       3              0      1          0      sales       1   \n",
       "1                       6              0      1          0      sales       2   \n",
       "2                       4              0      1          0      sales       2   \n",
       "3                       5              0      1          0      sales       1   \n",
       "4                       3              0      1          0      sales       1   \n",
       "...                   ...            ...    ...        ...        ...     ...   \n",
       "14994                   3              0      1          0    support       1   \n",
       "14995                   3              0      1          0    support       1   \n",
       "14996                   3              0      1          0    support       1   \n",
       "14997                   4              0      1          0    support       1   \n",
       "14998                   3              0      1          0    support       1   \n",
       "\n",
       "       ...  square_churn  square_promotion  z_score_satisfaction  \\\n",
       "0      ...           1.0               0.0             -0.936463   \n",
       "1      ...           1.0               0.0              0.752789   \n",
       "2      ...           1.0               0.0             -2.022412   \n",
       "3      ...           1.0               0.0              0.431027   \n",
       "4      ...           1.0               0.0             -0.976684   \n",
       "...    ...           ...               ...                   ...   \n",
       "14994  ...           1.0               0.0             -0.856023   \n",
       "14995  ...           1.0               0.0             -0.976684   \n",
       "14996  ...           1.0               0.0             -0.976684   \n",
       "14997  ...           1.0               0.0             -2.022412   \n",
       "14998  ...           1.0               0.0             -0.976684   \n",
       "\n",
       "       z_score_evaluation  z_score_number_of_projects  z_score_average  \\\n",
       "0               -1.087239                   -1.462814        -0.882010   \n",
       "1                0.840679                    0.971081         1.220382   \n",
       "2                0.957522                    2.593677         1.420610   \n",
       "3                0.899101                    0.971081         0.439493   \n",
       "4               -1.145661                   -1.462814        -0.841965   \n",
       "...                   ...                         ...              ...   \n",
       "14994           -0.853552                   -1.462814        -1.002147   \n",
       "14995           -1.379348                   -1.462814        -0.821942   \n",
       "14996           -1.087239                   -1.462814        -1.162329   \n",
       "14997            1.424896                    1.782379         1.580792   \n",
       "14998           -1.145661                   -1.462814        -0.861988   \n",
       "\n",
       "       z_score_time  z_score_work_accident  z_score_churn  z_score_promotion  \n",
       "0         -0.341224              -0.411152       1.788857          -0.147407  \n",
       "1          1.713379              -0.411152       1.788857          -0.147407  \n",
       "2          0.343644              -0.411152       1.788857          -0.147407  \n",
       "3          1.028511              -0.411152       1.788857          -0.147407  \n",
       "4         -0.341224              -0.411152       1.788857          -0.147407  \n",
       "...             ...                    ...            ...                ...  \n",
       "14994     -0.341224              -0.411152       1.788857          -0.147407  \n",
       "14995     -0.341224              -0.411152       1.788857          -0.147407  \n",
       "14996     -0.341224              -0.411152       1.788857          -0.147407  \n",
       "14997      0.343644              -0.411152       1.788857          -0.147407  \n",
       "14998     -0.341224              -0.411152       1.788857          -0.147407  \n",
       "\n",
       "[14999 rows x 22 columns]"
      ]
     },
     "execution_count": 185,
     "metadata": {},
     "output_type": "execute_result"
    }
   ],
   "source": [
    "data"
   ]
  },
  {
   "cell_type": "code",
   "execution_count": 186,
   "id": "14e9ee68",
   "metadata": {},
   "outputs": [],
   "source": [
    "from sklearn.preprocessing import LabelEncoder"
   ]
  },
  {
   "cell_type": "code",
   "execution_count": 187,
   "id": "4745fd5d",
   "metadata": {},
   "outputs": [],
   "source": [
    "##create a instance of label encoding\n",
    "le= LabelEncoder()"
   ]
  },
  {
   "cell_type": "code",
   "execution_count": 188,
   "id": "77fa3288",
   "metadata": {},
   "outputs": [],
   "source": [
    "x=data.drop(\"churn\",axis=1) ## x contain independant variable"
   ]
  },
  {
   "cell_type": "code",
   "execution_count": 189,
   "id": "27a28780",
   "metadata": {},
   "outputs": [],
   "source": [
    "x=pd.get_dummies(x)"
   ]
  },
  {
   "cell_type": "code",
   "execution_count": 194,
   "id": "20ab8d84",
   "metadata": {},
   "outputs": [
    {
     "data": {
      "text/plain": [
       "Index(['satisfaction', 'evaluation', 'number_of_projects',\n",
       "       'average_montly_hours', 'time_spend_company', 'work_accident',\n",
       "       'promotion', 'salary', 'squre_time_spend', 'square_work_accident',\n",
       "       'square_churn', 'square_promotion', 'z_score_satisfaction',\n",
       "       'z_score_evaluation', 'z_score_number_of_projects', 'z_score_average',\n",
       "       'z_score_time', 'z_score_work_accident', 'z_score_churn',\n",
       "       'z_score_promotion', 'department_IT', 'department_RandD',\n",
       "       'department_accounting', 'department_hr', 'department_management',\n",
       "       'department_marketing', 'department_product_mng', 'department_sales',\n",
       "       'department_support', 'department_technical'],\n",
       "      dtype='object')"
      ]
     },
     "execution_count": 194,
     "metadata": {},
     "output_type": "execute_result"
    }
   ],
   "source": [
    "x.columns"
   ]
  },
  {
   "cell_type": "code",
   "execution_count": 196,
   "id": "d7bce4ad",
   "metadata": {},
   "outputs": [],
   "source": [
    "y=data[\"churn\"] ## y contain dependant variable"
   ]
  },
  {
   "cell_type": "code",
   "execution_count": 200,
   "id": "e30fa023",
   "metadata": {},
   "outputs": [
    {
     "data": {
      "text/plain": [
       "0        1\n",
       "1        1\n",
       "2        1\n",
       "3        1\n",
       "4        1\n",
       "        ..\n",
       "14994    1\n",
       "14995    1\n",
       "14996    1\n",
       "14997    1\n",
       "14998    1\n",
       "Name: churn, Length: 14999, dtype: int64"
      ]
     },
     "execution_count": 200,
     "metadata": {},
     "output_type": "execute_result"
    }
   ],
   "source": [
    "y"
   ]
  },
  {
   "cell_type": "code",
   "execution_count": 201,
   "id": "af7972f0",
   "metadata": {},
   "outputs": [],
   "source": [
    "from sklearn.model_selection import train_test_split"
   ]
  },
  {
   "cell_type": "code",
   "execution_count": 203,
   "id": "065ac70b",
   "metadata": {},
   "outputs": [],
   "source": [
    "x_train, x_test , y_train, y_test = train_test_split(x,y,test_size = 0.2,random_state = 134)"
   ]
  },
  {
   "cell_type": "code",
   "execution_count": 204,
   "id": "fbdf3da7",
   "metadata": {},
   "outputs": [],
   "source": [
    "##create the instance of ML model\n",
    "from sklearn.neighbors import KNeighborsClassifier\n",
    "knn = KNeighborsClassifier(n_neighbors=11)"
   ]
  },
  {
   "cell_type": "code",
   "execution_count": 205,
   "id": "6b42dd2d",
   "metadata": {},
   "outputs": [
    {
     "data": {
      "text/html": [
       "<style>#sk-container-id-1 {color: black;background-color: white;}#sk-container-id-1 pre{padding: 0;}#sk-container-id-1 div.sk-toggleable {background-color: white;}#sk-container-id-1 label.sk-toggleable__label {cursor: pointer;display: block;width: 100%;margin-bottom: 0;padding: 0.3em;box-sizing: border-box;text-align: center;}#sk-container-id-1 label.sk-toggleable__label-arrow:before {content: \"▸\";float: left;margin-right: 0.25em;color: #696969;}#sk-container-id-1 label.sk-toggleable__label-arrow:hover:before {color: black;}#sk-container-id-1 div.sk-estimator:hover label.sk-toggleable__label-arrow:before {color: black;}#sk-container-id-1 div.sk-toggleable__content {max-height: 0;max-width: 0;overflow: hidden;text-align: left;background-color: #f0f8ff;}#sk-container-id-1 div.sk-toggleable__content pre {margin: 0.2em;color: black;border-radius: 0.25em;background-color: #f0f8ff;}#sk-container-id-1 input.sk-toggleable__control:checked~div.sk-toggleable__content {max-height: 200px;max-width: 100%;overflow: auto;}#sk-container-id-1 input.sk-toggleable__control:checked~label.sk-toggleable__label-arrow:before {content: \"▾\";}#sk-container-id-1 div.sk-estimator input.sk-toggleable__control:checked~label.sk-toggleable__label {background-color: #d4ebff;}#sk-container-id-1 div.sk-label input.sk-toggleable__control:checked~label.sk-toggleable__label {background-color: #d4ebff;}#sk-container-id-1 input.sk-hidden--visually {border: 0;clip: rect(1px 1px 1px 1px);clip: rect(1px, 1px, 1px, 1px);height: 1px;margin: -1px;overflow: hidden;padding: 0;position: absolute;width: 1px;}#sk-container-id-1 div.sk-estimator {font-family: monospace;background-color: #f0f8ff;border: 1px dotted black;border-radius: 0.25em;box-sizing: border-box;margin-bottom: 0.5em;}#sk-container-id-1 div.sk-estimator:hover {background-color: #d4ebff;}#sk-container-id-1 div.sk-parallel-item::after {content: \"\";width: 100%;border-bottom: 1px solid gray;flex-grow: 1;}#sk-container-id-1 div.sk-label:hover label.sk-toggleable__label {background-color: #d4ebff;}#sk-container-id-1 div.sk-serial::before {content: \"\";position: absolute;border-left: 1px solid gray;box-sizing: border-box;top: 0;bottom: 0;left: 50%;z-index: 0;}#sk-container-id-1 div.sk-serial {display: flex;flex-direction: column;align-items: center;background-color: white;padding-right: 0.2em;padding-left: 0.2em;position: relative;}#sk-container-id-1 div.sk-item {position: relative;z-index: 1;}#sk-container-id-1 div.sk-parallel {display: flex;align-items: stretch;justify-content: center;background-color: white;position: relative;}#sk-container-id-1 div.sk-item::before, #sk-container-id-1 div.sk-parallel-item::before {content: \"\";position: absolute;border-left: 1px solid gray;box-sizing: border-box;top: 0;bottom: 0;left: 50%;z-index: -1;}#sk-container-id-1 div.sk-parallel-item {display: flex;flex-direction: column;z-index: 1;position: relative;background-color: white;}#sk-container-id-1 div.sk-parallel-item:first-child::after {align-self: flex-end;width: 50%;}#sk-container-id-1 div.sk-parallel-item:last-child::after {align-self: flex-start;width: 50%;}#sk-container-id-1 div.sk-parallel-item:only-child::after {width: 0;}#sk-container-id-1 div.sk-dashed-wrapped {border: 1px dashed gray;margin: 0 0.4em 0.5em 0.4em;box-sizing: border-box;padding-bottom: 0.4em;background-color: white;}#sk-container-id-1 div.sk-label label {font-family: monospace;font-weight: bold;display: inline-block;line-height: 1.2em;}#sk-container-id-1 div.sk-label-container {text-align: center;}#sk-container-id-1 div.sk-container {/* jupyter's `normalize.less` sets `[hidden] { display: none; }` but bootstrap.min.css set `[hidden] { display: none !important; }` so we also need the `!important` here to be able to override the default hidden behavior on the sphinx rendered scikit-learn.org. See: https://github.com/scikit-learn/scikit-learn/issues/21755 */display: inline-block !important;position: relative;}#sk-container-id-1 div.sk-text-repr-fallback {display: none;}</style><div id=\"sk-container-id-1\" class=\"sk-top-container\"><div class=\"sk-text-repr-fallback\"><pre>KNeighborsClassifier(n_neighbors=11)</pre><b>In a Jupyter environment, please rerun this cell to show the HTML representation or trust the notebook. <br />On GitHub, the HTML representation is unable to render, please try loading this page with nbviewer.org.</b></div><div class=\"sk-container\" hidden><div class=\"sk-item\"><div class=\"sk-estimator sk-toggleable\"><input class=\"sk-toggleable__control sk-hidden--visually\" id=\"sk-estimator-id-1\" type=\"checkbox\" checked><label for=\"sk-estimator-id-1\" class=\"sk-toggleable__label sk-toggleable__label-arrow\">KNeighborsClassifier</label><div class=\"sk-toggleable__content\"><pre>KNeighborsClassifier(n_neighbors=11)</pre></div></div></div></div></div>"
      ],
      "text/plain": [
       "KNeighborsClassifier(n_neighbors=11)"
      ]
     },
     "execution_count": 205,
     "metadata": {},
     "output_type": "execute_result"
    }
   ],
   "source": [
    "###fit the model\n",
    "knn.fit(x_train, y_train)"
   ]
  },
  {
   "cell_type": "code",
   "execution_count": 206,
   "id": "bc2254e2",
   "metadata": {},
   "outputs": [],
   "source": [
    "## prediction on the test data\n",
    "y_pred = knn.predict(x_test)"
   ]
  },
  {
   "cell_type": "code",
   "execution_count": 208,
   "id": "bc3e770a",
   "metadata": {},
   "outputs": [],
   "source": [
    "from sklearn.metrics import accuracy_score, confusion_matrix"
   ]
  },
  {
   "cell_type": "code",
   "execution_count": 209,
   "id": "fae704da",
   "metadata": {},
   "outputs": [
    {
     "data": {
      "text/plain": [
       "array([[2287,    0],\n",
       "       [  37,  676]], dtype=int64)"
      ]
     },
     "execution_count": 209,
     "metadata": {},
     "output_type": "execute_result"
    }
   ],
   "source": [
    "confusion_matrix(y_test, y_pred)"
   ]
  },
  {
   "cell_type": "code",
   "execution_count": 210,
   "id": "5bb57ff9",
   "metadata": {},
   "outputs": [
    {
     "name": "stdout",
     "output_type": "stream",
     "text": [
      "0.9876666666666667\n"
     ]
    }
   ],
   "source": [
    "accuracy = accuracy_score(y_test, y_pred)\n",
    "print(accuracy)"
   ]
  },
  {
   "cell_type": "code",
   "execution_count": 211,
   "id": "490f8bd5",
   "metadata": {},
   "outputs": [],
   "source": [
    "##evaluate the model performance (acc, pre, recall, con matrix, f1 score)\n",
    "from sklearn.metrics import precision_score, recall_score, f1_score"
   ]
  },
  {
   "cell_type": "code",
   "execution_count": 212,
   "id": "bacf5205",
   "metadata": {},
   "outputs": [
    {
     "data": {
      "text/plain": [
       "1.0"
      ]
     },
     "execution_count": 212,
     "metadata": {},
     "output_type": "execute_result"
    }
   ],
   "source": [
    "precision_score(y_test, y_pred)"
   ]
  },
  {
   "cell_type": "code",
   "execution_count": 213,
   "id": "d269ba50",
   "metadata": {},
   "outputs": [
    {
     "data": {
      "text/plain": [
       "0.9481065918653576"
      ]
     },
     "execution_count": 213,
     "metadata": {},
     "output_type": "execute_result"
    }
   ],
   "source": [
    "recall_score(y_test, y_pred)"
   ]
  },
  {
   "cell_type": "code",
   "execution_count": 214,
   "id": "413b026c",
   "metadata": {},
   "outputs": [
    {
     "data": {
      "text/plain": [
       "0.9733621310295175"
      ]
     },
     "execution_count": 214,
     "metadata": {},
     "output_type": "execute_result"
    }
   ],
   "source": [
    "f1_score(y_test, y_pred)"
   ]
  },
  {
   "cell_type": "code",
   "execution_count": null,
   "id": "ef325601",
   "metadata": {},
   "outputs": [],
   "source": []
  }
 ],
 "metadata": {
  "kernelspec": {
   "display_name": "Python 3 (ipykernel)",
   "language": "python",
   "name": "python3"
  },
  "language_info": {
   "codemirror_mode": {
    "name": "ipython",
    "version": 3
   },
   "file_extension": ".py",
   "mimetype": "text/x-python",
   "name": "python",
   "nbconvert_exporter": "python",
   "pygments_lexer": "ipython3",
   "version": "3.10.9"
  }
 },
 "nbformat": 4,
 "nbformat_minor": 5
}
